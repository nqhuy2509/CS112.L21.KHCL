{
  "nbformat": 4,
  "nbformat_minor": 0,
  "metadata": {
    "colab": {
      "name": "Songuyenmoi.ipynb",
      "provenance": [],
      "collapsed_sections": [],
      "authorship_tag": "ABX9TyOV2mhIJp0/BeqnzWTdiIzL",
      "include_colab_link": true
    },
    "kernelspec": {
      "name": "python3",
      "display_name": "Python 3"
    },
    "language_info": {
      "name": "python"
    }
  },
  "cells": [
    {
      "cell_type": "markdown",
      "metadata": {
        "id": "view-in-github",
        "colab_type": "text"
      },
      "source": [
        "<a href=\"https://colab.research.google.com/github/nqhuy2509/CS112.L21.KHCL/blob/main/Assignment/Assignment%203/Songuyenmoi.ipynb\" target=\"_parent\"><img src=\"https://colab.research.google.com/assets/colab-badge.svg\" alt=\"Open In Colab\"/></a>"
      ]
    },
    {
      "cell_type": "markdown",
      "metadata": {
        "id": "ROyUullIx14T"
      },
      "source": [
        "**Đề bài**: Số nguyên mới\n",
        "\n",
        "\n",
        "\n",
        "**Abtraction**:\n",
        "\n",
        "- Cho số nguyên dương n không quá 100 chữ số. Xác định số nguyên lớn nhất m ( m chia hết cho 3 và khác n đúng 1 chữ số)\n",
        "- Input: một dòng chứa số nguyên n không quá 100 chữ số và không chứa số 0 vô nghĩa \n",
        "- Output: Số m tìm được\n",
        "\n",
        "**Pattern Recconigtion**:\n",
        "- Thay lần lượt các chữ số ở từng vị trí bằng [9,8,7] thỏa điều kiện chia hết cho 3 và lớn nhất\n",
        "- Nếu thay đến số cuối cùng và số lớn nhất vẫn như cũ thì ta trừ chữ số cuối cùng cho 3\n",
        "\n",
        "**Algorithm designed**:\n",
        "- Tạo biến max độ dài bằng len(n) và giá trị bằng 0\n",
        "- Chạy vòng lặp i từ 0 đến độ dài của n:\n",
        "  - Chạy vòng lặp j từ 9 đến 7:\n",
        "      - Tạo một biến phụ a là list của n\n",
        "      - Thay vị trí i của a thành j\n",
        "      - Kiểm tra a có chia hết cho 3 không\n",
        "      - So sánh số a và max bằng cách gọi hàm max:\n",
        "        - nếu a > max thì max = a\n",
        "- Nếu biến max = n thì gán n[-1] = n[-1] - 3\n",
        "\n",
        "**Độ phức tạp**: O(k) với k là độ dài của n"
      ]
    },
    {
      "cell_type": "code",
      "metadata": {
        "id": "6PWH0H9T2shx"
      },
      "source": [
        "#Code by NguyenQuanHuy"
        
        "n=input()\n",
        "\n",
        "max=''\n",
        "for i in range(len(n)):\n",
        "    max=max+'0'\n",
        "\n",
        "def sosanh(x,max):\n",
        "    for i in range(len(x)):\n",
        "        if x[i]>max[i]:\n",
        "            return True\n",
        "            break\n",
        "        elif x[i]<max[i]:\n",
        "            return False\n",
        "            break\n",
        "    return False\n",
        "\n",
        "for i in range(len(n)):\n",
        "    for j in range(9,6,-1):\n",
        "        a=list(n)\n",
        "        a[i]=str(j)\n",
        "        if sum([int(z)for z in a])%3==0:\n",
        "            if sosanh(a,max):\n",
        "                max=''.join(a)\n",
        "            \n",
        "if max==n:\n",
        "    x=int(max[-1])-3\n",
        "    max=max[:-1]+str(x)\n",
        "print(max)"
      ],
      "execution_count": null,
      "outputs": []
    }
  ]
}
