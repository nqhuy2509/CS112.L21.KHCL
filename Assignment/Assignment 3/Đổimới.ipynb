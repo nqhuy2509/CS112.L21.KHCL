{
  "nbformat": 4,
  "nbformat_minor": 0,
  "metadata": {
    "colab": {
      "name": "Đổimới.ipynb",
      "provenance": [],
      "collapsed_sections": [],
      "include_colab_link": true
    },
    "kernelspec": {
      "name": "python3",
      "display_name": "Python 3"
    },
    "language_info": {
      "name": "python"
    }
  },
  "cells": [
    {
      "cell_type": "markdown",
      "metadata": {
        "id": "view-in-github",
        "colab_type": "text"
      },
      "source": [
        "<a href=\"https://colab.research.google.com/github/nqhuy2509/CS112.L21.KHCL/blob/main/Assignment/Assignment%203/%C4%90%E1%BB%95im%E1%BB%9Bi.ipynb\" target=\"_parent\"><img src=\"https://colab.research.google.com/assets/colab-badge.svg\" alt=\"Open In Colab\"/></a>"
      ]
    },
    {
      "cell_type": "markdown",
      "metadata": {
        "id": "sfsUHCWzlvis"
      },
      "source": [
        "**Đề bài**: **Đổi mới**\n",
        "\n",
        "\n",
        "1.\tAbstraction:\n",
        "-\tInput: a,  k, b, m, n\n",
        "-\tOutput: day (số ngày hoàn thành)\n",
        "2.\t Kĩ thuật:\n",
        "-\tChia để trị\n",
        "-\tĐặc điểm: Có 2 bài toán con là đội A và đội B\n",
        "3.\tAlgorithm designed:\n",
        "\n",
        "Mã giả:\n",
        "+ While n>0\n",
        "   + If day % k != 0 then\n",
        "        + Tính số cây còn lại: n=n-a\n",
        "        + End\n",
        "   + If day % m != 0 then\n",
        "        + Tính số cây còn lại: n=n-b\n",
        "        + End\n",
        "   + If n>0 then\n",
        "        + Tăng day lên 1\n",
        "        + End\n",
        "+ Xuất kết quả day\n",
        "+ End\n",
        "4.\tĐánh giá độ phức tạp: O(n)\n"
      ]
    },
    {
      "cell_type": "code",
      "metadata": {
        "colab": {
          "base_uri": "https://localhost:8080/"
        },
        "id": "HbaimZ59E0o7",
        "outputId": "f590877d-2cb8-4903-f9c8-34ef5588e0c6"
      },
      "source": [
        "import array as arr\n",
        "arr=list(map(int,input().strip().split()))[:5]\n",
        "day=1\n",
        "a=arr[0]\n",
        "k=arr[1]\n",
        "b=arr[2]\n",
        "m=arr[3]\n",
        "n=arr[4]\n",
        "while(n>0):\n",
        "  if(day%k!=0):\n",
        "    n=n-a\n",
        "  if(day%m!=0):\n",
        "    n=n-b\n",
        "  if(n>0):\n",
        "    day+=1\n",
        "print(day)\n"
      ],
      "execution_count": null,
      "outputs": [
        {
          "output_type": "stream",
          "text": [
            "3 3 4 4 100\n",
            "20\n"
          ],
          "name": "stdout"
        }
      ]
    }
  ]
}
